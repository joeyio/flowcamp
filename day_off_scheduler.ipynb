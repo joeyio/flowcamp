{
 "cells": [
  {
   "cell_type": "markdown",
   "id": "39aa2ec3",
   "metadata": {},
   "source": [
    "This is a tool to optimze day off preferences across a department. Future roadmap is to expand to integrate multiple departments."
   ]
  },
  {
   "cell_type": "code",
   "execution_count": 1,
   "id": "556bbf93",
   "metadata": {},
   "outputs": [],
   "source": [
    "import pyomo.environ as pyo\n",
    "import pandas as pd\n",
    "import enum as en"
   ]
  },
  {
   "cell_type": "markdown",
   "id": "bef4f8bf",
   "metadata": {},
   "source": [
    "Sample data format:\n",
    "\n",
    "| **columns**    | **data type** |\n",
    "|----------------|---------------|\n",
    "| name           | str           |\n",
    "| department     | str           |\n",
    "| sub_department | str           |\n",
    "| first_choice   | enum          |\n",
    "| second_choice  | enum          |\n",
    "| third_choice   | enum          |\n",
    "| other_people   | str           |\n",
    "| days_over_ppl  | boolean       |\n",
    "\n"
   ]
  },
  {
   "cell_type": "code",
   "execution_count": null,
   "id": "0a14e846",
   "metadata": {},
   "outputs": [],
   "source": [
    "### configurable parameters ###\n",
    "\n",
    "# valid days for days off\n",
    "Days = en.Enum('Days', ['SUNDAY', 'MONDAY', 'TUESDAY' 'WEDNESDAY', 'THURSDAY' 'FRIDAY'])"
   ]
  }
 ],
 "metadata": {
  "kernelspec": {
   "display_name": "Python 3 (ipykernel)",
   "language": "python",
   "name": "python3"
  },
  "language_info": {
   "codemirror_mode": {
    "name": "ipython",
    "version": 3
   },
   "file_extension": ".py",
   "mimetype": "text/x-python",
   "name": "python",
   "nbconvert_exporter": "python",
   "pygments_lexer": "ipython3",
   "version": "3.11.0"
  }
 },
 "nbformat": 4,
 "nbformat_minor": 5
}
